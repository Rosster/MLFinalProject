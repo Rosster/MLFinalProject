{
 "cells": [
  {
   "cell_type": "markdown",
   "metadata": {},
   "source": [
    "# Imports"
   ]
  },
  {
   "cell_type": "code",
   "execution_count": 4,
   "metadata": {},
   "outputs": [],
   "source": [
    "import pandas as pd\n",
    "import numpy as np\n",
    "from tqdm import tqdm_notebook\n",
    "import os"
   ]
  },
  {
   "cell_type": "markdown",
   "metadata": {},
   "source": [
    "# Gather Data"
   ]
  },
  {
   "cell_type": "code",
   "execution_count": 2,
   "metadata": {},
   "outputs": [],
   "source": [
    "twitter = pd.read_json(r\"C:\\Programming\\Python\\Programs_NLP\\MLFinalProject\\src\\data\\twitter_data_with_sentiment.json\")"
   ]
  },
  {
   "cell_type": "code",
   "execution_count": 3,
   "metadata": {},
   "outputs": [],
   "source": [
    "twitter.timestamp = pd.to_datetime(twitter.timestamp)"
   ]
  },
  {
   "cell_type": "code",
   "execution_count": 7,
   "metadata": {},
   "outputs": [],
   "source": [
    "stock_dict = {}\n",
    "stock_dir = '../src/data/CompleteStockData'"
   ]
  },
  {
   "cell_type": "code",
   "execution_count": 12,
   "metadata": {},
   "outputs": [],
   "source": [
    "for file in os.listdir('../src/data/CompleteStockData'):\n",
    "    if file.endswith('.csv'):\n",
    "        symbol = file.replace('_stocks.csv','')\n",
    "        stock_dict[symbol] = pd.read_csv(os.sep.join([stock_dir,file]), index_col='date')"
   ]
  },
  {
   "cell_type": "code",
   "execution_count": 39,
   "metadata": {},
   "outputs": [],
   "source": [
    "for key in stock_dict.keys():\n",
    "    stock_dict[key].index = pd.to_datetime(stock_dict[key].index)"
   ]
  },
  {
   "cell_type": "code",
   "execution_count": 40,
   "metadata": {},
   "outputs": [
    {
     "data": {
      "text/html": [
       "<div>\n",
       "<style scoped>\n",
       "    .dataframe tbody tr th:only-of-type {\n",
       "        vertical-align: middle;\n",
       "    }\n",
       "\n",
       "    .dataframe tbody tr th {\n",
       "        vertical-align: top;\n",
       "    }\n",
       "\n",
       "    .dataframe thead th {\n",
       "        text-align: right;\n",
       "    }\n",
       "</style>\n",
       "<table border=\"1\" class=\"dataframe\">\n",
       "  <thead>\n",
       "    <tr style=\"text-align: right;\">\n",
       "      <th></th>\n",
       "      <th>id</th>\n",
       "      <th>text</th>\n",
       "      <th>timestamp</th>\n",
       "      <th>source</th>\n",
       "      <th>symbols</th>\n",
       "      <th>company_names</th>\n",
       "      <th>url</th>\n",
       "      <th>verified</th>\n",
       "      <th>sentiment_compound</th>\n",
       "      <th>sentiment_neg</th>\n",
       "      <th>sentiment_pos</th>\n",
       "      <th>sentiment_neu</th>\n",
       "    </tr>\n",
       "  </thead>\n",
       "  <tbody>\n",
       "    <tr>\n",
       "      <th>0</th>\n",
       "      <td>1019696670777503700</td>\n",
       "      <td>VIDEO: “I was in my office. I was minding my o...</td>\n",
       "      <td>2018-07-18 21:33:26</td>\n",
       "      <td>GoldmanSachs</td>\n",
       "      <td>GS</td>\n",
       "      <td>The Goldman Sachs</td>\n",
       "      <td>https://twitter.com/i/web/status/1019696670777...</td>\n",
       "      <td>True</td>\n",
       "      <td>0.0000</td>\n",
       "      <td>0.000</td>\n",
       "      <td>0.0</td>\n",
       "      <td>1.000</td>\n",
       "    </tr>\n",
       "    <tr>\n",
       "      <th>1</th>\n",
       "      <td>1019709091038548000</td>\n",
       "      <td>The price of lumber $LB_F is down 22% since hi...</td>\n",
       "      <td>2018-07-18 22:22:47</td>\n",
       "      <td>StockTwits</td>\n",
       "      <td>M</td>\n",
       "      <td>Macy's</td>\n",
       "      <td>https://twitter.com/i/web/status/1019709091038...</td>\n",
       "      <td>True</td>\n",
       "      <td>0.0000</td>\n",
       "      <td>0.000</td>\n",
       "      <td>0.0</td>\n",
       "      <td>1.000</td>\n",
       "    </tr>\n",
       "    <tr>\n",
       "      <th>10</th>\n",
       "      <td>1019723137481617400</td>\n",
       "      <td>U.S. proposes expedited appeal in fight with A...</td>\n",
       "      <td>2018-07-18 23:18:36</td>\n",
       "      <td>Reuters</td>\n",
       "      <td>TWX</td>\n",
       "      <td>Time Warner</td>\n",
       "      <td>https://reut.rs/2O1Ao46</td>\n",
       "      <td>True</td>\n",
       "      <td>-0.3818</td>\n",
       "      <td>0.167</td>\n",
       "      <td>0.0</td>\n",
       "      <td>0.833</td>\n",
       "    </tr>\n",
       "    <tr>\n",
       "      <th>100</th>\n",
       "      <td>1016200281749643300</td>\n",
       "      <td>Short sale volume(not short interest) for $D o...</td>\n",
       "      <td>2018-07-09 06:00:01</td>\n",
       "      <td>shortvolumes</td>\n",
       "      <td>AEE</td>\n",
       "      <td>Ameren Corporation</td>\n",
       "      <td>http://shortvolumes.com/?t=D</td>\n",
       "      <td>False</td>\n",
       "      <td>0.0000</td>\n",
       "      <td>0.000</td>\n",
       "      <td>0.0</td>\n",
       "      <td>1.000</td>\n",
       "    </tr>\n",
       "    <tr>\n",
       "      <th>1000</th>\n",
       "      <td>1016656436762329100</td>\n",
       "      <td>$MO $SKT $TGT $PNR $ED $T $KMB $BEN $PEP $ORI ...</td>\n",
       "      <td>2018-07-10 12:12:37</td>\n",
       "      <td>SeekingAlpha</td>\n",
       "      <td>ED</td>\n",
       "      <td>Consolidated Edison</td>\n",
       "      <td>https://seekingalpha.com/article/4186312-high-...</td>\n",
       "      <td>False</td>\n",
       "      <td>0.0000</td>\n",
       "      <td>0.000</td>\n",
       "      <td>0.0</td>\n",
       "      <td>1.000</td>\n",
       "    </tr>\n",
       "  </tbody>\n",
       "</table>\n",
       "</div>"
      ],
      "text/plain": [
       "                       id                                               text  \\\n",
       "0     1019696670777503700  VIDEO: “I was in my office. I was minding my o...   \n",
       "1     1019709091038548000  The price of lumber $LB_F is down 22% since hi...   \n",
       "10    1019723137481617400  U.S. proposes expedited appeal in fight with A...   \n",
       "100   1016200281749643300  Short sale volume(not short interest) for $D o...   \n",
       "1000  1016656436762329100  $MO $SKT $TGT $PNR $ED $T $KMB $BEN $PEP $ORI ...   \n",
       "\n",
       "               timestamp        source symbols        company_names  \\\n",
       "0    2018-07-18 21:33:26  GoldmanSachs      GS    The Goldman Sachs   \n",
       "1    2018-07-18 22:22:47    StockTwits       M               Macy's   \n",
       "10   2018-07-18 23:18:36       Reuters     TWX          Time Warner   \n",
       "100  2018-07-09 06:00:01  shortvolumes     AEE   Ameren Corporation   \n",
       "1000 2018-07-10 12:12:37  SeekingAlpha      ED  Consolidated Edison   \n",
       "\n",
       "                                                    url  verified  \\\n",
       "0     https://twitter.com/i/web/status/1019696670777...      True   \n",
       "1     https://twitter.com/i/web/status/1019709091038...      True   \n",
       "10                              https://reut.rs/2O1Ao46      True   \n",
       "100                        http://shortvolumes.com/?t=D     False   \n",
       "1000  https://seekingalpha.com/article/4186312-high-...     False   \n",
       "\n",
       "      sentiment_compound  sentiment_neg  sentiment_pos  sentiment_neu  \n",
       "0                 0.0000          0.000            0.0          1.000  \n",
       "1                 0.0000          0.000            0.0          1.000  \n",
       "10               -0.3818          0.167            0.0          0.833  \n",
       "100               0.0000          0.000            0.0          1.000  \n",
       "1000              0.0000          0.000            0.0          1.000  "
      ]
     },
     "execution_count": 40,
     "metadata": {},
     "output_type": "execute_result"
    }
   ],
   "source": [
    "twitter.head()"
   ]
  },
  {
   "cell_type": "code",
   "execution_count": 41,
   "metadata": {},
   "outputs": [],
   "source": [
    "output_df = twitter[twitter.symbols.apply(lambda sym: sym.lower() in stock_dict)][\n",
    "    ['id', 'timestamp', 'symbols','sentiment_compound', 'sentiment_neg', 'sentiment_pos',\n",
    "       'sentiment_neu']].copy()"
   ]
  },
  {
   "cell_type": "code",
   "execution_count": 49,
   "metadata": {},
   "outputs": [],
   "source": [
    "def get_stock_days(sym, ts, output_price='4. close'):\n",
    "    sym = sym.lower()\n",
    "    \n",
    "    before_close = False\n",
    "    if ts.hour < 16:\n",
    "        before_close = True\n",
    "    \n",
    "    if before_close:\n",
    "        before_df = stock_dict[sym].loc[:ts + pd.Timedelta(days=1)]\n",
    "        after_df = stock_dict[sym].loc[ts + pd.Timedelta(days=1):]\n",
    "    else:\n",
    "        before_df = stock_dict[sym].loc[:ts ]\n",
    "        after_df = stock_dict[sym].loc[ts:]\n",
    "    \n",
    "    output_df = pd.concat([before_df.iloc[-3:],after_df.iloc[:4]])\n",
    "    return {'t{}'.format(str(idx)):val for idx,val in enumerate(output_df[output_price], -3)}"
   ]
  },
  {
   "cell_type": "code",
   "execution_count": 50,
   "metadata": {},
   "outputs": [
    {
     "data": {
      "text/plain": [
       "{'t-3': 231.44,\n",
       " 't-2': 231.02,\n",
       " 't-1': 231.24,\n",
       " 't0': 229.63,\n",
       " 't1': 231.69,\n",
       " 't2': 233.76,\n",
       " 't3': 235.88}"
      ]
     },
     "execution_count": 50,
     "metadata": {},
     "output_type": "execute_result"
    }
   ],
   "source": [
    "get_stock_days('gs', twitter.iloc[0].timestamp)"
   ]
  },
  {
   "cell_type": "code",
   "execution_count": 51,
   "metadata": {},
   "outputs": [],
   "source": [
    "output_df['price_data_dict'] = output_df.apply(lambda row: get_stock_days(row['symbols'], row['timestamp']), axis=1)"
   ]
  },
  {
   "cell_type": "code",
   "execution_count": 55,
   "metadata": {},
   "outputs": [],
   "source": [
    "for time_slice in ['t{}'.format(str(idx)) for idx in range(-3,4)]:\n",
    "    output_df[time_slice] = output_df.price_data_dict.apply(lambda d: d.get(time_slice))"
   ]
  },
  {
   "cell_type": "code",
   "execution_count": null,
   "metadata": {},
   "outputs": [],
   "source": [
    "output_df.drop()"
   ]
  }
 ],
 "metadata": {
  "kernelspec": {
   "display_name": "Python 3",
   "language": "python",
   "name": "python3"
  },
  "language_info": {
   "codemirror_mode": {
    "name": "ipython",
    "version": 3
   },
   "file_extension": ".py",
   "mimetype": "text/x-python",
   "name": "python",
   "nbconvert_exporter": "python",
   "pygments_lexer": "ipython3",
   "version": "3.7.1"
  }
 },
 "nbformat": 4,
 "nbformat_minor": 2
}
