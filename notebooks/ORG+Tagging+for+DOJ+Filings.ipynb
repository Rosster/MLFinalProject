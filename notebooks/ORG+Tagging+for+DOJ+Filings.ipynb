{
 "cells": [
  {
   "cell_type": "code",
   "execution_count": 8,
   "metadata": {
    "collapsed": true
   },
   "outputs": [],
   "source": [
    "import json\n",
    "import requests\n",
    "import pandas as pd\n",
    "from tqdm import tqdm\n",
    "from collections import Counter\n",
    "import re\n",
    "import Levenshtein\n",
    "from cleanco import cleanco"
   ]
  },
  {
   "cell_type": "code",
   "execution_count": 2,
   "metadata": {
    "collapsed": true
   },
   "outputs": [],
   "source": [
    "import spacy\n",
    "from spacy import displacy\n",
    "nlp = spacy.load('en_core_web_lg')"
   ]
  },
  {
   "cell_type": "code",
   "execution_count": 3,
   "metadata": {
    "collapsed": true,
    "scrolled": false
   },
   "outputs": [],
   "source": [
    "doj_data = pd.read_json('combined.json', lines=True)"
   ]
  },
  {
   "cell_type": "code",
   "execution_count": 4,
   "metadata": {
    "collapsed": true
   },
   "outputs": [],
   "source": [
    "stock_ticker_data = requests.get('https://quantquote.com/docs/symbol_map_comnam.csv').content"
   ]
  },
  {
   "cell_type": "code",
   "execution_count": 5,
   "metadata": {
    "collapsed": true
   },
   "outputs": [],
   "source": [
    "stock_ticker_df = stock_ticker_data.decode('utf-8').split('\\r\\n')[3:]\n",
    "stock_ticker_df = pd.DataFrame([i.split(',') for i in stock_ticker_df])\n",
    "stock_ticker_df.columns = stock_ticker_df.iloc[0]\n",
    "stock_ticker_df = stock_ticker_df[1:]\n",
    "stock_ticker_df = stock_ticker_df.dropna(subset=['COMPANY NAME'])"
   ]
  },
  {
   "cell_type": "markdown",
   "metadata": {},
   "source": [
    "## Tagging Organizations with Spacy"
   ]
  },
  {
   "cell_type": "code",
   "execution_count": 7,
   "metadata": {},
   "outputs": [
    {
     "data": {
      "application/vnd.jupyter.widget-view+json": {
       "model_id": "099bfdb2a60341d58e79d466476a801c",
       "version_major": 2,
       "version_minor": 0
      },
      "text/plain": [
       "HBox(children=(IntProgress(value=0, max=13087), HTML(value='')))"
      ]
     },
     "metadata": {},
     "output_type": "display_data"
    },
    {
     "name": "stdout",
     "output_type": "stream",
     "text": [
      "\n"
     ]
    }
   ],
   "source": [
    "parsed_doj_contents = [set([w.text for w in nlp(c).ents if w.label_=='ORG'])\n",
    "                       for c in tqdm_notebook(doj_data.contents.values)]"
   ]
  },
  {
   "cell_type": "code",
   "execution_count": 9,
   "metadata": {
    "scrolled": true
   },
   "outputs": [
    {
     "name": "stderr",
     "output_type": "stream",
     "text": [
      "100%|██████████| 13087/13087 [02:18<00:00, 94.66it/s] \n"
     ]
    }
   ],
   "source": [
    "parsed_doj_titles = [set([w.text for w in nlp(c).ents if w.label_=='ORG'])\n",
    "                       for c in tqdm(doj_data.title.values)]"
   ]
  },
  {
   "cell_type": "code",
   "execution_count": 10,
   "metadata": {
    "collapsed": true
   },
   "outputs": [],
   "source": [
    "doj_data['organizations'] = parsed_doj_contents"
   ]
  },
  {
   "cell_type": "code",
   "execution_count": 11,
   "metadata": {
    "collapsed": true
   },
   "outputs": [],
   "source": [
    "doj_data['organizations_titles'] = parsed_doj_titles"
   ]
  },
  {
   "cell_type": "code",
   "execution_count": 12,
   "metadata": {},
   "outputs": [],
   "source": [
    "doj_data['all_orgs'] = doj_data['organizations'].apply(list)  + doj_data['organizations_titles'].apply(list)"
   ]
  },
  {
   "cell_type": "code",
   "execution_count": 13,
   "metadata": {
    "collapsed": true
   },
   "outputs": [],
   "source": [
    "all_orgs = [o.lower() for i in doj_data.all_orgs for o in i]"
   ]
  },
  {
   "cell_type": "code",
   "execution_count": 14,
   "metadata": {
    "collapsed": true
   },
   "outputs": [],
   "source": [
    "all_companies = [i.lower() for i in stock_ticker_df['COMPANY NAME']]"
   ]
  },
  {
   "cell_type": "code",
   "execution_count": 15,
   "metadata": {
    "collapsed": true
   },
   "outputs": [],
   "source": [
    "# doj_data.to_json('doj_data_with_orgs.json')"
   ]
  },
  {
   "cell_type": "markdown",
   "metadata": {},
   "source": [
    "## Simpler Tagging :("
   ]
  },
  {
   "cell_type": "code",
   "execution_count": 16,
   "metadata": {},
   "outputs": [],
   "source": [
    "def process_name(nm):\n",
    "    name = cleanco(nm).clean_name()\n",
    "    name = re.sub(r\"[[:punct:]]+\", \"\", name)\n",
    "    return name.lower()"
   ]
  },
  {
   "cell_type": "code",
   "execution_count": 17,
   "metadata": {},
   "outputs": [
    {
     "name": "stderr",
     "output_type": "stream",
     "text": [
      "100%|██████████| 13087/13087 [00:41<00:00, 318.97it/s]\n"
     ]
    }
   ],
   "source": [
    "clean_org_set_v2 = set([process_name(o) for i in tqdm(doj_data.all_orgs) for o in i])"
   ]
  },
  {
   "cell_type": "code",
   "execution_count": 18,
   "metadata": {},
   "outputs": [
    {
     "name": "stderr",
     "output_type": "stream",
     "text": [
      "100%|██████████| 21190/21190 [00:02<00:00, 7236.37it/s]\n"
     ]
    }
   ],
   "source": [
    "clean_co_set_v2 = set([process_name(i) for i in tqdm(stock_ticker_df['COMPANY NAME']) ])"
   ]
  },
  {
   "cell_type": "code",
   "execution_count": 19,
   "metadata": {},
   "outputs": [],
   "source": [
    "clean_co_to_symbol_dict = {}\n",
    "symbol_to_full_nm_dict = {}\n",
    "for _,symbol,_,name in stock_ticker_df[~stock_ticker_df['QUANTQUOTE PERMTICK'].str.contains(r'\\d')].itertuples():\n",
    "    if len(name.strip())>0:\n",
    "        clean_co_to_symbol_dict[process_name(name)] = symbol\n",
    "        symbol_to_full_nm_dict[symbol] = name"
   ]
  },
  {
   "cell_type": "code",
   "execution_count": 20,
   "metadata": {},
   "outputs": [],
   "source": [
    "doj_data['clean_orgs'] = doj_data.all_orgs.apply(lambda st: [process_name(o) for o in st])"
   ]
  },
  {
   "cell_type": "code",
   "execution_count": 21,
   "metadata": {
    "collapsed": true
   },
   "outputs": [],
   "source": [
    "doj_data['tagged_symbols'] = doj_data.clean_orgs.apply(lambda st: [clean_co_to_symbol_dict[o] for o in st if o in clean_co_to_symbol_dict])"
   ]
  },
  {
   "cell_type": "code",
   "execution_count": 129,
   "metadata": {},
   "outputs": [],
   "source": [
    "doj_data_final = doj_data[doj_data.tagged_symbols.apply(lambda x: len(x)>0)].copy()"
   ]
  },
  {
   "cell_type": "code",
   "execution_count": 130,
   "metadata": {},
   "outputs": [],
   "source": [
    "doj_data_final['tagged_companies'] = doj_data_final['tagged_symbols'].apply(lambda li: [symbol_to_full_nm_dict[i] for i in li])"
   ]
  },
  {
   "cell_type": "code",
   "execution_count": 131,
   "metadata": {},
   "outputs": [],
   "source": [
    "# doj_data_final.to_json('doj_data_with_tags.json')"
   ]
  },
  {
   "cell_type": "markdown",
   "metadata": {},
   "source": [
    "## Industry Tagging"
   ]
  },
  {
   "cell_type": "code",
   "execution_count": 132,
   "metadata": {
    "collapsed": true
   },
   "outputs": [],
   "source": [
    "nyse = pd.read_csv('nyse_company_list.csv')\n",
    "nasdaq = pd.read_csv('nasdaq_company_list.csv')\n"
   ]
  },
  {
   "cell_type": "code",
   "execution_count": 133,
   "metadata": {},
   "outputs": [],
   "source": [
    "nyse_symbol_set = set([i.lower() for i in nyse.Symbol.values])\n",
    "nasdaq_symbol_set = set([i.lower() for i in nasdaq.Symbol.values])"
   ]
  },
  {
   "cell_type": "code",
   "execution_count": 134,
   "metadata": {},
   "outputs": [],
   "source": [
    "nyse_symbol_sector_dict = {sym.lower():sector for sym,sector in zip(nyse.Symbol,nyse.Sector)}\n",
    "nasdaq_symbol_sector_dict = {sym.lower():sector for sym,sector in zip(nasdaq.Symbol,nasdaq.Sector)}"
   ]
  },
  {
   "cell_type": "code",
   "execution_count": 135,
   "metadata": {
    "collapsed": true
   },
   "outputs": [],
   "source": [
    "nyse_symbol_industry_dict = {sym.lower():industry for sym,industry in zip(nyse.Symbol,nyse.Industry)}\n",
    "nasdaq_symbol_industry_dict = {sym.lower():industry for sym,industry in zip(nasdaq.Symbol,nasdaq.Industry)}"
   ]
  },
  {
   "cell_type": "code",
   "execution_count": 136,
   "metadata": {},
   "outputs": [],
   "source": [
    "doj_data_final['sectors'] = doj_data_final.tagged_symbols.apply(\n",
    "    lambda li: \n",
    "    [nyse_symbol_sector_dict.get(i,nasdaq_symbol_sector_dict.get(i)) \n",
    "     for i in li if (i in nyse_symbol_sector_dict) or (i in nasdaq_symbol_sector_dict)])"
   ]
  },
  {
   "cell_type": "code",
   "execution_count": 137,
   "metadata": {
    "collapsed": true
   },
   "outputs": [],
   "source": [
    "doj_data_final['industries'] = doj_data_final.tagged_symbols.apply(\n",
    "    lambda li: \n",
    "    [nyse_symbol_industry_dict.get(i,nasdaq_symbol_industry_dict.get(i)) \n",
    "     for i in li if i in nyse_symbol_industry_dict or i in nasdaq_symbol_industry_dict])"
   ]
  },
  {
   "cell_type": "code",
   "execution_count": 138,
   "metadata": {
    "collapsed": true
   },
   "outputs": [],
   "source": [
    "doj_data_final.to_json('doj_data_with_tags_and_industries.json')"
   ]
  }
 ],
 "metadata": {
  "kernelspec": {
   "display_name": "Python 3",
   "language": "python",
   "name": "python3"
  },
  "language_info": {
   "codemirror_mode": {
    "name": "ipython",
    "version": 3
   },
   "file_extension": ".py",
   "mimetype": "text/x-python",
   "name": "python",
   "nbconvert_exporter": "python",
   "pygments_lexer": "ipython3",
   "version": "3.5.6"
  }
 },
 "nbformat": 4,
 "nbformat_minor": 2
}
